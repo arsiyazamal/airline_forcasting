{
  "nbformat": 4,
  "nbformat_minor": 0,
  "metadata": {
    "colab": {
      "provenance": []
    },
    "kernelspec": {
      "name": "python3",
      "display_name": "Python 3"
    },
    "language_info": {
      "name": "python"
    }
  },
  "cells": [
    {
      "cell_type": "code",
      "execution_count": 1,
      "metadata": {
        "id": "FHQ5O3HuSrz0"
      },
      "outputs": [],
      "source": [
        "#Solving Time Series Problems Using Simple RNN"
      ]
    },
    {
      "cell_type": "code",
      "source": [
        "import tensorflow as tf\n",
        "print(tf.__version__)"
      ],
      "metadata": {
        "colab": {
          "base_uri": "https://localhost:8080/"
        },
        "id": "xbDlPeADS0Ut",
        "outputId": "c5428c30-82e5-4097-f31b-9ca20e90787a"
      },
      "execution_count": 2,
      "outputs": [
        {
          "output_type": "stream",
          "name": "stdout",
          "text": [
            "2.12.0\n"
          ]
        }
      ]
    },
    {
      "cell_type": "code",
      "source": [
        "import pandas as pd\n",
        "import numpy as np\n",
        "from sklearn.preprocessing import MinMaxScaler\n",
        "import tensorflow as tf\n",
        "from keras.utils import np_utils"
      ],
      "metadata": {
        "id": "xvh1_HJQS0aI"
      },
      "execution_count": 3,
      "outputs": []
    },
    {
      "cell_type": "code",
      "source": [
        "df = pd.read_csv('airline-passengers.csv')\n",
        "df.sort_index(inplace=True)\n",
        "df.tail(4)"
      ],
      "metadata": {
        "colab": {
          "base_uri": "https://localhost:8080/",
          "height": 174
        },
        "id": "kRnLQ7IyS00Q",
        "outputId": "662bfc27-2526-47b1-a40c-42c016464ba0"
      },
      "execution_count": 5,
      "outputs": [
        {
          "output_type": "execute_result",
          "data": {
            "text/plain": [
              "       Month  Passengers\n",
              "140  1960-09         508\n",
              "141  1960-10         461\n",
              "142  1960-11         390\n",
              "143  1960-12         432"
            ],
            "text/html": [
              "\n",
              "  <div id=\"df-16e92243-8203-4c1d-a2c2-80e6d690765d\" class=\"colab-df-container\">\n",
              "    <div>\n",
              "<style scoped>\n",
              "    .dataframe tbody tr th:only-of-type {\n",
              "        vertical-align: middle;\n",
              "    }\n",
              "\n",
              "    .dataframe tbody tr th {\n",
              "        vertical-align: top;\n",
              "    }\n",
              "\n",
              "    .dataframe thead th {\n",
              "        text-align: right;\n",
              "    }\n",
              "</style>\n",
              "<table border=\"1\" class=\"dataframe\">\n",
              "  <thead>\n",
              "    <tr style=\"text-align: right;\">\n",
              "      <th></th>\n",
              "      <th>Month</th>\n",
              "      <th>Passengers</th>\n",
              "    </tr>\n",
              "  </thead>\n",
              "  <tbody>\n",
              "    <tr>\n",
              "      <th>140</th>\n",
              "      <td>1960-09</td>\n",
              "      <td>508</td>\n",
              "    </tr>\n",
              "    <tr>\n",
              "      <th>141</th>\n",
              "      <td>1960-10</td>\n",
              "      <td>461</td>\n",
              "    </tr>\n",
              "    <tr>\n",
              "      <th>142</th>\n",
              "      <td>1960-11</td>\n",
              "      <td>390</td>\n",
              "    </tr>\n",
              "    <tr>\n",
              "      <th>143</th>\n",
              "      <td>1960-12</td>\n",
              "      <td>432</td>\n",
              "    </tr>\n",
              "  </tbody>\n",
              "</table>\n",
              "</div>\n",
              "    <div class=\"colab-df-buttons\">\n",
              "\n",
              "  <div class=\"colab-df-container\">\n",
              "    <button class=\"colab-df-convert\" onclick=\"convertToInteractive('df-16e92243-8203-4c1d-a2c2-80e6d690765d')\"\n",
              "            title=\"Convert this dataframe to an interactive table.\"\n",
              "            style=\"display:none;\">\n",
              "\n",
              "  <svg xmlns=\"http://www.w3.org/2000/svg\" height=\"24px\" viewBox=\"0 -960 960 960\">\n",
              "    <path d=\"M120-120v-720h720v720H120Zm60-500h600v-160H180v160Zm220 220h160v-160H400v160Zm0 220h160v-160H400v160ZM180-400h160v-160H180v160Zm440 0h160v-160H620v160ZM180-180h160v-160H180v160Zm440 0h160v-160H620v160Z\"/>\n",
              "  </svg>\n",
              "    </button>\n",
              "\n",
              "  <style>\n",
              "    .colab-df-container {\n",
              "      display:flex;\n",
              "      gap: 12px;\n",
              "    }\n",
              "\n",
              "    .colab-df-convert {\n",
              "      background-color: #E8F0FE;\n",
              "      border: none;\n",
              "      border-radius: 50%;\n",
              "      cursor: pointer;\n",
              "      display: none;\n",
              "      fill: #1967D2;\n",
              "      height: 32px;\n",
              "      padding: 0 0 0 0;\n",
              "      width: 32px;\n",
              "    }\n",
              "\n",
              "    .colab-df-convert:hover {\n",
              "      background-color: #E2EBFA;\n",
              "      box-shadow: 0px 1px 2px rgba(60, 64, 67, 0.3), 0px 1px 3px 1px rgba(60, 64, 67, 0.15);\n",
              "      fill: #174EA6;\n",
              "    }\n",
              "\n",
              "    .colab-df-buttons div {\n",
              "      margin-bottom: 4px;\n",
              "    }\n",
              "\n",
              "    [theme=dark] .colab-df-convert {\n",
              "      background-color: #3B4455;\n",
              "      fill: #D2E3FC;\n",
              "    }\n",
              "\n",
              "    [theme=dark] .colab-df-convert:hover {\n",
              "      background-color: #434B5C;\n",
              "      box-shadow: 0px 1px 3px 1px rgba(0, 0, 0, 0.15);\n",
              "      filter: drop-shadow(0px 1px 2px rgba(0, 0, 0, 0.3));\n",
              "      fill: #FFFFFF;\n",
              "    }\n",
              "  </style>\n",
              "\n",
              "    <script>\n",
              "      const buttonEl =\n",
              "        document.querySelector('#df-16e92243-8203-4c1d-a2c2-80e6d690765d button.colab-df-convert');\n",
              "      buttonEl.style.display =\n",
              "        google.colab.kernel.accessAllowed ? 'block' : 'none';\n",
              "\n",
              "      async function convertToInteractive(key) {\n",
              "        const element = document.querySelector('#df-16e92243-8203-4c1d-a2c2-80e6d690765d');\n",
              "        const dataTable =\n",
              "          await google.colab.kernel.invokeFunction('convertToInteractive',\n",
              "                                                    [key], {});\n",
              "        if (!dataTable) return;\n",
              "\n",
              "        const docLinkHtml = 'Like what you see? Visit the ' +\n",
              "          '<a target=\"_blank\" href=https://colab.research.google.com/notebooks/data_table.ipynb>data table notebook</a>'\n",
              "          + ' to learn more about interactive tables.';\n",
              "        element.innerHTML = '';\n",
              "        dataTable['output_type'] = 'display_data';\n",
              "        await google.colab.output.renderOutput(dataTable, element);\n",
              "        const docLink = document.createElement('div');\n",
              "        docLink.innerHTML = docLinkHtml;\n",
              "        element.appendChild(docLink);\n",
              "      }\n",
              "    </script>\n",
              "  </div>\n",
              "\n",
              "\n",
              "<div id=\"df-4a42ca54-8066-4d4f-87d7-1bbe09c5ed97\">\n",
              "  <button class=\"colab-df-quickchart\" onclick=\"quickchart('df-4a42ca54-8066-4d4f-87d7-1bbe09c5ed97')\"\n",
              "            title=\"Suggest charts.\"\n",
              "            style=\"display:none;\">\n",
              "\n",
              "<svg xmlns=\"http://www.w3.org/2000/svg\" height=\"24px\"viewBox=\"0 0 24 24\"\n",
              "     width=\"24px\">\n",
              "    <g>\n",
              "        <path d=\"M19 3H5c-1.1 0-2 .9-2 2v14c0 1.1.9 2 2 2h14c1.1 0 2-.9 2-2V5c0-1.1-.9-2-2-2zM9 17H7v-7h2v7zm4 0h-2V7h2v10zm4 0h-2v-4h2v4z\"/>\n",
              "    </g>\n",
              "</svg>\n",
              "  </button>\n",
              "\n",
              "<style>\n",
              "  .colab-df-quickchart {\n",
              "    background-color: #E8F0FE;\n",
              "    border: none;\n",
              "    border-radius: 50%;\n",
              "    cursor: pointer;\n",
              "    display: none;\n",
              "    fill: #1967D2;\n",
              "    height: 32px;\n",
              "    padding: 0 0 0 0;\n",
              "    width: 32px;\n",
              "  }\n",
              "\n",
              "  .colab-df-quickchart:hover {\n",
              "    background-color: #E2EBFA;\n",
              "    box-shadow: 0px 1px 2px rgba(60, 64, 67, 0.3), 0px 1px 3px 1px rgba(60, 64, 67, 0.15);\n",
              "    fill: #174EA6;\n",
              "  }\n",
              "\n",
              "  [theme=dark] .colab-df-quickchart {\n",
              "    background-color: #3B4455;\n",
              "    fill: #D2E3FC;\n",
              "  }\n",
              "\n",
              "  [theme=dark] .colab-df-quickchart:hover {\n",
              "    background-color: #434B5C;\n",
              "    box-shadow: 0px 1px 3px 1px rgba(0, 0, 0, 0.15);\n",
              "    filter: drop-shadow(0px 1px 2px rgba(0, 0, 0, 0.3));\n",
              "    fill: #FFFFFF;\n",
              "  }\n",
              "</style>\n",
              "\n",
              "  <script>\n",
              "    async function quickchart(key) {\n",
              "      const charts = await google.colab.kernel.invokeFunction(\n",
              "          'suggestCharts', [key], {});\n",
              "    }\n",
              "    (() => {\n",
              "      let quickchartButtonEl =\n",
              "        document.querySelector('#df-4a42ca54-8066-4d4f-87d7-1bbe09c5ed97 button');\n",
              "      quickchartButtonEl.style.display =\n",
              "        google.colab.kernel.accessAllowed ? 'block' : 'none';\n",
              "    })();\n",
              "  </script>\n",
              "</div>\n",
              "    </div>\n",
              "  </div>\n"
            ]
          },
          "metadata": {},
          "execution_count": 5
        }
      ]
    },
    {
      "cell_type": "code",
      "source": [
        "df.shape"
      ],
      "metadata": {
        "colab": {
          "base_uri": "https://localhost:8080/"
        },
        "id": "IKhzngxaS03z",
        "outputId": "079fb024-758b-4aee-8813-a2dffc3864a1"
      },
      "execution_count": 6,
      "outputs": [
        {
          "output_type": "execute_result",
          "data": {
            "text/plain": [
              "(144, 2)"
            ]
          },
          "metadata": {},
          "execution_count": 6
        }
      ]
    },
    {
      "cell_type": "code",
      "source": [
        "df.plot()"
      ],
      "metadata": {
        "colab": {
          "base_uri": "https://localhost:8080/",
          "height": 448
        },
        "id": "5XwVwWs3S09H",
        "outputId": "ec4ec5c5-6a76-4996-a490-058e2d18b232"
      },
      "execution_count": 7,
      "outputs": [
        {
          "output_type": "execute_result",
          "data": {
            "text/plain": [
              "<Axes: >"
            ]
          },
          "metadata": {},
          "execution_count": 7
        },
        {
          "output_type": "display_data",
          "data": {
            "text/plain": [
              "<Figure size 640x480 with 1 Axes>"
            ],
            "image/png": "[encoded data removed]"
          },
          "metadata": {}
        }
      ]
    },
    {
      "cell_type": "markdown",
      "source": [
        "Data Preprocessing"
      ],
      "metadata": {
        "id": "ESBMNZ5uT4GK"
      }
    },
    {
      "cell_type": "code",
      "source": [
        "#Check for null values\n",
        "df.isnull().sum()"
      ],
      "metadata": {
        "colab": {
          "base_uri": "https://localhost:8080/"
        },
        "id": "dttTz_rnTrjH",
        "outputId": "d76378ab-1914-4334-81ed-ba405b0a6270"
      },
      "execution_count": 8,
      "outputs": [
        {
          "output_type": "execute_result",
          "data": {
            "text/plain": [
              "Month         0\n",
              "Passengers    0\n",
              "dtype: int64"
            ]
          },
          "metadata": {},
          "execution_count": 8
        }
      ]
    },
    {
      "cell_type": "code",
      "source": [
        "#Check Data Range\n",
        "print('Min', np.min(df))\n",
        "print('Max', np.max(df))"
      ],
      "metadata": {
        "colab": {
          "base_uri": "https://localhost:8080/"
        },
        "id": "J39M8gEKTrmi",
        "outputId": "bbc051d6-f457-4890-ddc9-becb4caff45b"
      },
      "execution_count": 9,
      "outputs": [
        {
          "output_type": "stream",
          "name": "stdout",
          "text": [
            "Min Month         1949-01\n",
            "Passengers        104\n",
            "dtype: object\n",
            "Max Month         1960-12\n",
            "Passengers        622\n",
            "dtype: object\n"
          ]
        },
        {
          "output_type": "stream",
          "name": "stderr",
          "text": [
            "/usr/local/lib/python3.10/dist-packages/numpy/core/fromnumeric.py:84: FutureWarning: In a future version, DataFrame.min(axis=None) will return a scalar min over the entire DataFrame. To retain the old behavior, use 'frame.min(axis=0)' or just 'frame.min()'\n",
            "  return reduction(axis=axis, out=out, **passkwargs)\n",
            "/usr/local/lib/python3.10/dist-packages/numpy/core/fromnumeric.py:84: FutureWarning: In a future version, DataFrame.max(axis=None) will return a scalar max over the entire DataFrame. To retain the old behavior, use 'frame.max(axis=0)' or just 'frame.max()'\n",
            "  return reduction(axis=axis, out=out, **passkwargs)\n"
          ]
        }
      ]
    },
    {
      "cell_type": "markdown",
      "source": [
        "**Drop the month column**\n",
        "\n",
        "\n",
        "*   month column serves just a representational need\n",
        "\n"
      ],
      "metadata": {
        "id": "qbsC_gPNUQaT"
      }
    },
    {
      "cell_type": "code",
      "source": [
        "df.drop(\"Month\", axis=1, inplace=True)"
      ],
      "metadata": {
        "id": "hsKEvzCkTrqM"
      },
      "execution_count": 10,
      "outputs": []
    },
    {
      "cell_type": "code",
      "source": [
        "df.shape"
      ],
      "metadata": {
        "colab": {
          "base_uri": "https://localhost:8080/"
        },
        "id": "6miyqeP9Trt0",
        "outputId": "fb586474-6ea1-4da3-ff92-adc50288107e"
      },
      "execution_count": 11,
      "outputs": [
        {
          "output_type": "execute_result",
          "data": {
            "text/plain": [
              "(144, 1)"
            ]
          },
          "metadata": {},
          "execution_count": 11
        }
      ]
    },
    {
      "cell_type": "markdown",
      "source": [
        "\n",
        "\n",
        "*   lstms are sensitive to sclaing. Specifically when we use activation functions like sigmoid or tanh\n",
        "\n",
        "\n",
        "*   A good practice is to rescale the data to the range of o to 1\n",
        "*   This is also called normalization or standardization.\n",
        "\n",
        "\n",
        "*  MinMaxScaler library helps in scaling\n",
        "\n",
        "\n",
        "\n",
        "\n",
        "\n",
        "\n"
      ],
      "metadata": {
        "id": "6evsEi-fU4ET"
      }
    },
    {
      "cell_type": "code",
      "source": [
        "from sklearn.preprocessing import MinMaxScaler"
      ],
      "metadata": {
        "id": "RwkKOEFiUy9O"
      },
      "execution_count": 12,
      "outputs": []
    },
    {
      "cell_type": "code",
      "source": [
        "#Normalize the data\n",
        "scaler = MinMaxScaler(feature_range=(0, 1))\n",
        "scaled = scaler.fit_transform(df)"
      ],
      "metadata": {
        "id": "NoK6-ptFUzLY"
      },
      "execution_count": 13,
      "outputs": []
    },
    {
      "cell_type": "markdown",
      "source": [
        "**Checking the Scaled Data**"
      ],
      "metadata": {
        "id": "yAy9r_xGxpoT"
      }
    },
    {
      "cell_type": "code",
      "source": [
        "type(scaled)"
      ],
      "metadata": {
        "colab": {
          "base_uri": "https://localhost:8080/"
        },
        "id": "0zFpBp_ZVpUW",
        "outputId": "699e7e03-c553-4653-d116-3faffdc413d1"
      },
      "execution_count": 14,
      "outputs": [
        {
          "output_type": "execute_result",
          "data": {
            "text/plain": [
              "numpy.ndarray"
            ]
          },
          "metadata": {},
          "execution_count": 14
        }
      ]
    },
    {
      "cell_type": "code",
      "source": [
        "scaled.ndim"
      ],
      "metadata": {
        "colab": {
          "base_uri": "https://localhost:8080/"
        },
        "id": "9Y_A2ge2VpXz",
        "outputId": "c83f72a3-56e8-45ac-dfef-dcbfeeac966e"
      },
      "execution_count": 15,
      "outputs": [
        {
          "output_type": "execute_result",
          "data": {
            "text/plain": [
              "2"
            ]
          },
          "metadata": {},
          "execution_count": 15
        }
      ]
    },
    {
      "cell_type": "code",
      "source": [
        "scaled.shape"
      ],
      "metadata": {
        "colab": {
          "base_uri": "https://localhost:8080/"
        },
        "id": "qYHptMnsVpa3",
        "outputId": "10a11dee-3604-43cc-de0d-c381aec09ce6"
      },
      "execution_count": 16,
      "outputs": [
        {
          "output_type": "execute_result",
          "data": {
            "text/plain": [
              "(144, 1)"
            ]
          },
          "metadata": {},
          "execution_count": 16
        }
      ]
    },
    {
      "cell_type": "code",
      "source": [
        "scaled"
      ],
      "metadata": {
        "colab": {
          "base_uri": "https://localhost:8080/"
        },
        "id": "hbKuuajFVph8",
        "outputId": "ecac9e4d-264b-4922-cf59-17ab252763de"
      },
      "execution_count": 17,
      "outputs": [
        {
          "output_type": "execute_result",
          "data": {
            "text/plain": [
              "array([[0.01544402],\n",
              "       [0.02702703],\n",
              "       [0.05405405],\n",
              "       [0.04826255],\n",
              "       [0.03281853],\n",
              "       [0.05984556],\n",
              "       [0.08494208],\n",
              "       [0.08494208],\n",
              "       [0.06177606],\n",
              "       [0.02895753],\n",
              "       [0.        ],\n",
              "       [0.02702703],\n",
              "       [0.02123552],\n",
              "       [0.04247104],\n",
              "       [0.07142857],\n",
              "       [0.05984556],\n",
              "       [0.04054054],\n",
              "       [0.08687259],\n",
              "       [0.12741313],\n",
              "       [0.12741313],\n",
              "       [0.1042471 ],\n",
              "       [0.05598456],\n",
              "       [0.01930502],\n",
              "       [0.06949807],\n",
              "       [0.07915058],\n",
              "       [0.08880309],\n",
              "       [0.14285714],\n",
              "       [0.11389961],\n",
              "       [0.13127413],\n",
              "       [0.14285714],\n",
              "       [0.18339768],\n",
              "       [0.18339768],\n",
              "       [0.15444015],\n",
              "       [0.11196911],\n",
              "       [0.08108108],\n",
              "       [0.11969112],\n",
              "       [0.12934363],\n",
              "       [0.14671815],\n",
              "       [0.17181467],\n",
              "       [0.14864865],\n",
              "       [0.15250965],\n",
              "       [0.22007722],\n",
              "       [0.24324324],\n",
              "       [0.26640927],\n",
              "       [0.2027027 ],\n",
              "       [0.16795367],\n",
              "       [0.13127413],\n",
              "       [0.17374517],\n",
              "       [0.17760618],\n",
              "       [0.17760618],\n",
              "       [0.25482625],\n",
              "       [0.25289575],\n",
              "       [0.24131274],\n",
              "       [0.26833977],\n",
              "       [0.30888031],\n",
              "       [0.32432432],\n",
              "       [0.25675676],\n",
              "       [0.20656371],\n",
              "       [0.14671815],\n",
              "       [0.18725869],\n",
              "       [0.19305019],\n",
              "       [0.16216216],\n",
              "       [0.25289575],\n",
              "       [0.23745174],\n",
              "       [0.25096525],\n",
              "       [0.30888031],\n",
              "       [0.38223938],\n",
              "       [0.36486486],\n",
              "       [0.2992278 ],\n",
              "       [0.24131274],\n",
              "       [0.19111969],\n",
              "       [0.24131274],\n",
              "       [0.26640927],\n",
              "       [0.24903475],\n",
              "       [0.31467181],\n",
              "       [0.31853282],\n",
              "       [0.32046332],\n",
              "       [0.40733591],\n",
              "       [0.5019305 ],\n",
              "       [0.46911197],\n",
              "       [0.4015444 ],\n",
              "       [0.32818533],\n",
              "       [0.25675676],\n",
              "       [0.33590734],\n",
              "       [0.34749035],\n",
              "       [0.33397683],\n",
              "       [0.41119691],\n",
              "       [0.4034749 ],\n",
              "       [0.41312741],\n",
              "       [0.52123552],\n",
              "       [0.5965251 ],\n",
              "       [0.58108108],\n",
              "       [0.48455598],\n",
              "       [0.38996139],\n",
              "       [0.32239382],\n",
              "       [0.38996139],\n",
              "       [0.40733591],\n",
              "       [0.38030888],\n",
              "       [0.48648649],\n",
              "       [0.47104247],\n",
              "       [0.48455598],\n",
              "       [0.61389961],\n",
              "       [0.6969112 ],\n",
              "       [0.7007722 ],\n",
              "       [0.57915058],\n",
              "       [0.46911197],\n",
              "       [0.38803089],\n",
              "       [0.44787645],\n",
              "       [0.45559846],\n",
              "       [0.41312741],\n",
              "       [0.4980695 ],\n",
              "       [0.47104247],\n",
              "       [0.5       ],\n",
              "       [0.63899614],\n",
              "       [0.74710425],\n",
              "       [0.77413127],\n",
              "       [0.57915058],\n",
              "       [0.49227799],\n",
              "       [0.3976834 ],\n",
              "       [0.44980695],\n",
              "       [0.49420849],\n",
              "       [0.45945946],\n",
              "       [0.58301158],\n",
              "       [0.56370656],\n",
              "       [0.61003861],\n",
              "       [0.71042471],\n",
              "       [0.85714286],\n",
              "       [0.87837838],\n",
              "       [0.69305019],\n",
              "       [0.58494208],\n",
              "       [0.4980695 ],\n",
              "       [0.58108108],\n",
              "       [0.6042471 ],\n",
              "       [0.55405405],\n",
              "       [0.60810811],\n",
              "       [0.68918919],\n",
              "       [0.71042471],\n",
              "       [0.83204633],\n",
              "       [1.        ],\n",
              "       [0.96911197],\n",
              "       [0.77992278],\n",
              "       [0.68918919],\n",
              "       [0.55212355],\n",
              "       [0.63320463]])"
            ]
          },
          "metadata": {},
          "execution_count": 17
        }
      ]
    },
    {
      "cell_type": "markdown",
      "source": [
        "**Split Data - Points to be considered for time series problems**\n",
        "\n",
        "\n",
        "\n",
        "*  Splitting the dataset into training or text\n",
        "*   Usual methodology to split data into train and test is by using\n",
        "\n",
        "     *  sklearn.model_selection import train_test_split\n",
        "     *  X_train, X_test, y_train, y_test = train_test_split(X, y)\n",
        "\n",
        "\n",
        "*  With timeseries the above approach will not work. Because, above methodology of splitting can make\n",
        "\n",
        "  * an observation at time step t can be in training data set   \n",
        "\n",
        " *  another observation at time step t+1 can go to test data set\n",
        " *  Observations in our time series datasets are not independent.\n",
        "\n",
        " *  As a simple example, if your observations are autocorrelated, having an observation at time t in the training set and another observation at time t+1 in the test set would cause a trouble.\n",
        "*   A model which knows the former naturally predict the latter well. In that case, the test score will be too optimistic about the predictive power of the model.\n",
        "\n",
        "\n",
        "\n",
        "\n",
        "\n",
        "\n",
        "\n"
      ],
      "metadata": {
        "id": "DDjEvM5cyw1k"
      }
    },
    {
      "cell_type": "code",
      "source": [
        "#70% examples will used for training (in the begining)\n",
        "train_size = int(len(scaled) * 0.70)\n",
        "\n",
        "#30% will be used for Test\n",
        "test_size = len(scaled - train_size)"
      ],
      "metadata": {
        "id": "WmdoKFYLymRe"
      },
      "execution_count": 18,
      "outputs": []
    },
    {
      "cell_type": "code",
      "source": [
        "train_size"
      ],
      "metadata": {
        "colab": {
          "base_uri": "https://localhost:8080/"
        },
        "id": "CveNWnoWymVc",
        "outputId": "269f5d49-be46-4161-8b82-9b9d787a2639"
      },
      "execution_count": 19,
      "outputs": [
        {
          "output_type": "execute_result",
          "data": {
            "text/plain": [
              "100"
            ]
          },
          "metadata": {},
          "execution_count": 19
        }
      ]
    },
    {
      "cell_type": "code",
      "source": [
        "test_size"
      ],
      "metadata": {
        "colab": {
          "base_uri": "https://localhost:8080/"
        },
        "id": "NKP-Sjb_ymY6",
        "outputId": "e7f4e297-4f3c-40f8-eb5c-23b08295e58e"
      },
      "execution_count": 20,
      "outputs": [
        {
          "output_type": "execute_result",
          "data": {
            "text/plain": [
              "144"
            ]
          },
          "metadata": {},
          "execution_count": 20
        }
      ]
    },
    {
      "cell_type": "code",
      "source": [
        "#Split the data - remember this is not a typical train test split using sci-kit learn\n",
        "train, test = scaled[0:train_size, :], scaled[train_size: len(scaled), :]\n",
        "print('train: {}\\ntest: {}'.format(len(train), len(test)))"
      ],
      "metadata": {
        "colab": {
          "base_uri": "https://localhost:8080/"
        },
        "id": "xdijUF4z1L7C",
        "outputId": "86547c6f-e4b9-4ec1-8352-dc9329d57bee"
      },
      "execution_count": 21,
      "outputs": [
        {
          "output_type": "stream",
          "name": "stdout",
          "text": [
            "train: 100\n",
            "test: 44\n"
          ]
        }
      ]
    },
    {
      "cell_type": "markdown",
      "source": [
        "**Build Input and Output data**\n",
        "\n",
        "for both Training and Test\n",
        "\n",
        "**Build_Ts_Data-Create a new function**\n",
        "\n",
        "\n",
        "\n",
        "* The function takes two arguments:\n",
        "\n",
        " *  Ts_Dataset, is a NumPy array that we want to convert into a dataset,\n",
        " *Ts_Window - is the number of previous time steps to use as input variables to predict the next time period — in this example, we have defaulted to 1.\n",
        "\n",
        "* This default will create a dataset where\n",
        "\n",
        " * dataX is the number of passengers at a given time (t) and\n",
        " * dataY is the number of passengers at the next time (t + 1). orig predict 100 122 122 133 133"
      ],
      "metadata": {
        "id": "naPUNglq1feT"
      }
    },
    {
      "cell_type": "code",
      "source": [
        "#window - how long the sequence will be\n",
        "def create_dataset(dataset, window=1):\n",
        "\n",
        "        ### initialize the list that houses the number of passengers at time t\n",
        "    dataX, dataY = [], []\n",
        "\n",
        "    for i in range(len(dataset)-window):\n",
        "\n",
        "        a = dataset[i:(i+window), 0]\n",
        "        dataX.append(a)\n",
        "        dataY.append(dataset[i + window, 0])\n",
        "\n",
        "    return np.array(dataX), np.array(dataY)"
      ],
      "metadata": {
        "id": "G2A_28T11Wot"
      },
      "execution_count": 22,
      "outputs": []
    },
    {
      "cell_type": "code",
      "source": [
        "#Create Input and Output\n",
        "window_size = 1\n",
        "X_train, y_train = create_dataset(train, window_size)\n",
        "X_test, y_test = create_dataset(test, window_size)"
      ],
      "metadata": {
        "id": "5r73UEom1WzL"
      },
      "execution_count": 23,
      "outputs": []
    },
    {
      "cell_type": "code",
      "source": [
        "X_train.shape"
      ],
      "metadata": {
        "colab": {
          "base_uri": "https://localhost:8080/"
        },
        "id": "xFb7x-mJ1W4x",
        "outputId": "09849b33-ceae-4f55-e7bb-46aa3101e2d8"
      },
      "execution_count": 24,
      "outputs": [
        {
          "output_type": "execute_result",
          "data": {
            "text/plain": [
              "(99, 1)"
            ]
          },
          "metadata": {},
          "execution_count": 24
        }
      ]
    },
    {
      "cell_type": "code",
      "source": [
        "X_test.shape"
      ],
      "metadata": {
        "colab": {
          "base_uri": "https://localhost:8080/"
        },
        "id": "Hgwjrq-n1MIY",
        "outputId": "9d308d5e-dc50-49b1-db07-0c887c12dcab"
      },
      "execution_count": 25,
      "outputs": [
        {
          "output_type": "execute_result",
          "data": {
            "text/plain": [
              "(43, 1)"
            ]
          },
          "metadata": {},
          "execution_count": 25
        }
      ]
    },
    {
      "cell_type": "code",
      "source": [
        "y_train.shape"
      ],
      "metadata": {
        "colab": {
          "base_uri": "https://localhost:8080/"
        },
        "id": "enTMmhnN2vjf",
        "outputId": "c01605f8-ac3e-4b22-f786-3e56bae8eaaa"
      },
      "execution_count": 26,
      "outputs": [
        {
          "output_type": "execute_result",
          "data": {
            "text/plain": [
              "(99,)"
            ]
          },
          "metadata": {},
          "execution_count": 26
        }
      ]
    },
    {
      "cell_type": "code",
      "source": [
        "y_test.shape"
      ],
      "metadata": {
        "colab": {
          "base_uri": "https://localhost:8080/"
        },
        "id": "p5TwpVYK2v1K",
        "outputId": "dadf5f15-e780-4e71-cace-816dfabd1674"
      },
      "execution_count": 27,
      "outputs": [
        {
          "output_type": "execute_result",
          "data": {
            "text/plain": [
              "(43,)"
            ]
          },
          "metadata": {},
          "execution_count": 27
        }
      ]
    },
    {
      "cell_type": "code",
      "source": [
        "X_train"
      ],
      "metadata": {
        "colab": {
          "base_uri": "https://localhost:8080/"
        },
        "id": "Vs4B8e8-2wl-",
        "outputId": "a7f17626-07fa-45da-ecd5-26641ab38631"
      },
      "execution_count": 28,
      "outputs": [
        {
          "output_type": "execute_result",
          "data": {
            "text/plain": [
              "array([[0.01544402],\n",
              "       [0.02702703],\n",
              "       [0.05405405],\n",
              "       [0.04826255],\n",
              "       [0.03281853],\n",
              "       [0.05984556],\n",
              "       [0.08494208],\n",
              "       [0.08494208],\n",
              "       [0.06177606],\n",
              "       [0.02895753],\n",
              "       [0.        ],\n",
              "       [0.02702703],\n",
              "       [0.02123552],\n",
              "       [0.04247104],\n",
              "       [0.07142857],\n",
              "       [0.05984556],\n",
              "       [0.04054054],\n",
              "       [0.08687259],\n",
              "       [0.12741313],\n",
              "       [0.12741313],\n",
              "       [0.1042471 ],\n",
              "       [0.05598456],\n",
              "       [0.01930502],\n",
              "       [0.06949807],\n",
              "       [0.07915058],\n",
              "       [0.08880309],\n",
              "       [0.14285714],\n",
              "       [0.11389961],\n",
              "       [0.13127413],\n",
              "       [0.14285714],\n",
              "       [0.18339768],\n",
              "       [0.18339768],\n",
              "       [0.15444015],\n",
              "       [0.11196911],\n",
              "       [0.08108108],\n",
              "       [0.11969112],\n",
              "       [0.12934363],\n",
              "       [0.14671815],\n",
              "       [0.17181467],\n",
              "       [0.14864865],\n",
              "       [0.15250965],\n",
              "       [0.22007722],\n",
              "       [0.24324324],\n",
              "       [0.26640927],\n",
              "       [0.2027027 ],\n",
              "       [0.16795367],\n",
              "       [0.13127413],\n",
              "       [0.17374517],\n",
              "       [0.17760618],\n",
              "       [0.17760618],\n",
              "       [0.25482625],\n",
              "       [0.25289575],\n",
              "       [0.24131274],\n",
              "       [0.26833977],\n",
              "       [0.30888031],\n",
              "       [0.32432432],\n",
              "       [0.25675676],\n",
              "       [0.20656371],\n",
              "       [0.14671815],\n",
              "       [0.18725869],\n",
              "       [0.19305019],\n",
              "       [0.16216216],\n",
              "       [0.25289575],\n",
              "       [0.23745174],\n",
              "       [0.25096525],\n",
              "       [0.30888031],\n",
              "       [0.38223938],\n",
              "       [0.36486486],\n",
              "       [0.2992278 ],\n",
              "       [0.24131274],\n",
              "       [0.19111969],\n",
              "       [0.24131274],\n",
              "       [0.26640927],\n",
              "       [0.24903475],\n",
              "       [0.31467181],\n",
              "       [0.31853282],\n",
              "       [0.32046332],\n",
              "       [0.40733591],\n",
              "       [0.5019305 ],\n",
              "       [0.46911197],\n",
              "       [0.4015444 ],\n",
              "       [0.32818533],\n",
              "       [0.25675676],\n",
              "       [0.33590734],\n",
              "       [0.34749035],\n",
              "       [0.33397683],\n",
              "       [0.41119691],\n",
              "       [0.4034749 ],\n",
              "       [0.41312741],\n",
              "       [0.52123552],\n",
              "       [0.5965251 ],\n",
              "       [0.58108108],\n",
              "       [0.48455598],\n",
              "       [0.38996139],\n",
              "       [0.32239382],\n",
              "       [0.38996139],\n",
              "       [0.40733591],\n",
              "       [0.38030888],\n",
              "       [0.48648649]])"
            ]
          },
          "metadata": {},
          "execution_count": 28
        }
      ]
    },
    {
      "cell_type": "code",
      "source": [
        "y_train"
      ],
      "metadata": {
        "colab": {
          "base_uri": "https://localhost:8080/"
        },
        "id": "R8RRg0rx28TG",
        "outputId": "7f542cfa-0483-4f28-c171-9a880bdf1588"
      },
      "execution_count": 29,
      "outputs": [
        {
          "output_type": "execute_result",
          "data": {
            "text/plain": [
              "array([0.02702703, 0.05405405, 0.04826255, 0.03281853, 0.05984556,\n",
              "       0.08494208, 0.08494208, 0.06177606, 0.02895753, 0.        ,\n",
              "       0.02702703, 0.02123552, 0.04247104, 0.07142857, 0.05984556,\n",
              "       0.04054054, 0.08687259, 0.12741313, 0.12741313, 0.1042471 ,\n",
              "       0.05598456, 0.01930502, 0.06949807, 0.07915058, 0.08880309,\n",
              "       0.14285714, 0.11389961, 0.13127413, 0.14285714, 0.18339768,\n",
              "       0.18339768, 0.15444015, 0.11196911, 0.08108108, 0.11969112,\n",
              "       0.12934363, 0.14671815, 0.17181467, 0.14864865, 0.15250965,\n",
              "       0.22007722, 0.24324324, 0.26640927, 0.2027027 , 0.16795367,\n",
              "       0.13127413, 0.17374517, 0.17760618, 0.17760618, 0.25482625,\n",
              "       0.25289575, 0.24131274, 0.26833977, 0.30888031, 0.32432432,\n",
              "       0.25675676, 0.20656371, 0.14671815, 0.18725869, 0.19305019,\n",
              "       0.16216216, 0.25289575, 0.23745174, 0.25096525, 0.30888031,\n",
              "       0.38223938, 0.36486486, 0.2992278 , 0.24131274, 0.19111969,\n",
              "       0.24131274, 0.26640927, 0.24903475, 0.31467181, 0.31853282,\n",
              "       0.32046332, 0.40733591, 0.5019305 , 0.46911197, 0.4015444 ,\n",
              "       0.32818533, 0.25675676, 0.33590734, 0.34749035, 0.33397683,\n",
              "       0.41119691, 0.4034749 , 0.41312741, 0.52123552, 0.5965251 ,\n",
              "       0.58108108, 0.48455598, 0.38996139, 0.32239382, 0.38996139,\n",
              "       0.40733591, 0.38030888, 0.48648649, 0.47104247])"
            ]
          },
          "metadata": {},
          "execution_count": 29
        }
      ]
    },
    {
      "cell_type": "code",
      "source": [
        "X_test"
      ],
      "metadata": {
        "colab": {
          "base_uri": "https://localhost:8080/"
        },
        "id": "vA3-2SH328Zr",
        "outputId": "3cee6765-2133-4dba-a893-5b2ffb59f062"
      },
      "execution_count": 30,
      "outputs": [
        {
          "output_type": "execute_result",
          "data": {
            "text/plain": [
              "array([[0.48455598],\n",
              "       [0.61389961],\n",
              "       [0.6969112 ],\n",
              "       [0.7007722 ],\n",
              "       [0.57915058],\n",
              "       [0.46911197],\n",
              "       [0.38803089],\n",
              "       [0.44787645],\n",
              "       [0.45559846],\n",
              "       [0.41312741],\n",
              "       [0.4980695 ],\n",
              "       [0.47104247],\n",
              "       [0.5       ],\n",
              "       [0.63899614],\n",
              "       [0.74710425],\n",
              "       [0.77413127],\n",
              "       [0.57915058],\n",
              "       [0.49227799],\n",
              "       [0.3976834 ],\n",
              "       [0.44980695],\n",
              "       [0.49420849],\n",
              "       [0.45945946],\n",
              "       [0.58301158],\n",
              "       [0.56370656],\n",
              "       [0.61003861],\n",
              "       [0.71042471],\n",
              "       [0.85714286],\n",
              "       [0.87837838],\n",
              "       [0.69305019],\n",
              "       [0.58494208],\n",
              "       [0.4980695 ],\n",
              "       [0.58108108],\n",
              "       [0.6042471 ],\n",
              "       [0.55405405],\n",
              "       [0.60810811],\n",
              "       [0.68918919],\n",
              "       [0.71042471],\n",
              "       [0.83204633],\n",
              "       [1.        ],\n",
              "       [0.96911197],\n",
              "       [0.77992278],\n",
              "       [0.68918919],\n",
              "       [0.55212355]])"
            ]
          },
          "metadata": {},
          "execution_count": 30
        }
      ]
    },
    {
      "cell_type": "code",
      "source": [
        "y_test"
      ],
      "metadata": {
        "colab": {
          "base_uri": "https://localhost:8080/"
        },
        "id": "-RNGgadG3Dcg",
        "outputId": "87ee8066-1702-4d22-ccae-fe5ed60c1fcf"
      },
      "execution_count": 31,
      "outputs": [
        {
          "output_type": "execute_result",
          "data": {
            "text/plain": [
              "array([0.61389961, 0.6969112 , 0.7007722 , 0.57915058, 0.46911197,\n",
              "       0.38803089, 0.44787645, 0.45559846, 0.41312741, 0.4980695 ,\n",
              "       0.47104247, 0.5       , 0.63899614, 0.74710425, 0.77413127,\n",
              "       0.57915058, 0.49227799, 0.3976834 , 0.44980695, 0.49420849,\n",
              "       0.45945946, 0.58301158, 0.56370656, 0.61003861, 0.71042471,\n",
              "       0.85714286, 0.87837838, 0.69305019, 0.58494208, 0.4980695 ,\n",
              "       0.58108108, 0.6042471 , 0.55405405, 0.60810811, 0.68918919,\n",
              "       0.71042471, 0.83204633, 1.        , 0.96911197, 0.77992278,\n",
              "       0.68918919, 0.55212355, 0.63320463])"
            ]
          },
          "metadata": {},
          "execution_count": 31
        }
      ]
    },
    {
      "cell_type": "code",
      "source": [],
      "metadata": {
        "id": "xhB4FuJu3G_q"
      },
      "execution_count": null,
      "outputs": []
    },
    {
      "cell_type": "markdown",
      "source": [
        "**RNN Considerations**\n",
        "\n",
        "* The RNN network expects the input data (X) to be provided with a specific array structure in the form of: [samples, time steps, features].\n",
        "\n",
        "* Currently the data we have is in the form of samples and features\n",
        "\n",
        "* we will reshape the current data (samples and features) to target data format (samples,timesteps,features)"
      ],
      "metadata": {
        "id": "L41PF3hV5Nop"
      }
    },
    {
      "cell_type": "code",
      "source": [
        "y_train.shape"
      ],
      "metadata": {
        "colab": {
          "base_uri": "https://localhost:8080/"
        },
        "id": "aEafizku3HUQ",
        "outputId": "96133b0c-bdaf-4d32-ad47-a0fa26a5dbab"
      },
      "execution_count": 32,
      "outputs": [
        {
          "output_type": "execute_result",
          "data": {
            "text/plain": [
              "(99,)"
            ]
          },
          "metadata": {},
          "execution_count": 32
        }
      ]
    },
    {
      "cell_type": "code",
      "source": [
        "X_train.shape\n",
        "### 99 rows and 1 columns- or 99 samples and 1 feature"
      ],
      "metadata": {
        "colab": {
          "base_uri": "https://localhost:8080/"
        },
        "id": "NGF-j0um5qAH",
        "outputId": "dff02b5e-4277-43f3-f362-2580eb31dd93"
      },
      "execution_count": 33,
      "outputs": [
        {
          "output_type": "execute_result",
          "data": {
            "text/plain": [
              "(99, 1)"
            ]
          },
          "metadata": {},
          "execution_count": 33
        }
      ]
    },
    {
      "cell_type": "code",
      "source": [
        "X_train.ndim"
      ],
      "metadata": {
        "colab": {
          "base_uri": "https://localhost:8080/"
        },
        "id": "fmyAC7Zi5qE1",
        "outputId": "5d06b54f-75ca-4285-fe45-64b934408f0d"
      },
      "execution_count": 34,
      "outputs": [
        {
          "output_type": "execute_result",
          "data": {
            "text/plain": [
              "2"
            ]
          },
          "metadata": {},
          "execution_count": 34
        }
      ]
    },
    {
      "cell_type": "code",
      "source": [
        "### In LSTM Format - example\n",
        "\n",
        "(X_train.shape[0], X_train.shape[1], 1)"
      ],
      "metadata": {
        "colab": {
          "base_uri": "https://localhost:8080/"
        },
        "id": "XLN1OMYP5qIy",
        "outputId": "60b67da3-e7e0-47cf-8a8f-c2e883ce4312"
      },
      "execution_count": 35,
      "outputs": [
        {
          "output_type": "execute_result",
          "data": {
            "text/plain": [
              "(99, 1, 1)"
            ]
          },
          "metadata": {},
          "execution_count": 35
        }
      ]
    },
    {
      "cell_type": "code",
      "source": [
        "#Make it 3 Dimensional Data - needed for RNN\n",
        "X_train = np.reshape(X_train, (X_train.shape[0], X_train.shape[1], 1))\n",
        "X_test = np.reshape(X_test, (X_test.shape[0], X_test.shape[1], 1))\n",
        "print(\"Training data Shape     : \",X_train.shape)\n",
        "print(\"Training data dimension : \", X_train.ndim)\n",
        "print(\"Test data Shape         : \",X_test.shape)\n",
        "print(\"Test data dimension     : \",X_test.ndim)"
      ],
      "metadata": {
        "colab": {
          "base_uri": "https://localhost:8080/"
        },
        "id": "matNIkc350us",
        "outputId": "5350f639-5dfb-478b-94d9-128c4f5d20d4"
      },
      "execution_count": 36,
      "outputs": [
        {
          "output_type": "stream",
          "name": "stdout",
          "text": [
            "Training data Shape     :  (99, 1, 1)\n",
            "Training data dimension :  3\n",
            "Test data Shape         :  (43, 1, 1)\n",
            "Test data dimension     :  3\n"
          ]
        }
      ]
    },
    {
      "cell_type": "code",
      "source": [],
      "metadata": {
        "id": "sbYfsaln504D"
      },
      "execution_count": null,
      "outputs": []
    },
    {
      "cell_type": "markdown",
      "source": [
        "**Build the model**"
      ],
      "metadata": {
        "id": "AH4XklSe5-9a"
      }
    },
    {
      "cell_type": "code",
      "source": [
        "import tensorflow as tf"
      ],
      "metadata": {
        "id": "bRHZRrWm6Fnp"
      },
      "execution_count": 37,
      "outputs": []
    },
    {
      "cell_type": "markdown",
      "source": [
        "MSE = Sum of Squared differences between actual and predicted y / total number of observations\n",
        "\n",
        "MSE = Sum((ypredicted - yactual)**2) / 2\n",
        "\n",
        "RMSE Sqrt(Sum(ypredicted- yactual)**2) / )"
      ],
      "metadata": {
        "id": "yVdMfZ7Q6Pfw"
      }
    },
    {
      "cell_type": "code",
      "source": [
        "tf.keras.backend.clear_session()\n",
        "model = tf.keras.Sequential()\n",
        "model.add(tf.keras.layers.SimpleRNN(32, input_shape=(window_size, 1)))\n",
        "model.add(tf.keras.layers.Dense(1))\n",
        "model.compile(optimizer='adam', loss='mse')"
      ],
      "metadata": {
        "id": "6MD5TDgV6J0N"
      },
      "execution_count": 38,
      "outputs": []
    },
    {
      "cell_type": "code",
      "source": [
        "model.summary()"
      ],
      "metadata": {
        "colab": {
          "base_uri": "https://localhost:8080/"
        },
        "id": "j1kZtyrP6J_9",
        "outputId": "3177abc0-0373-466e-ff05-ae60195897f9"
      },
      "execution_count": 39,
      "outputs": [
        {
          "output_type": "stream",
          "name": "stdout",
          "text": [
            "Model: \"sequential\"\n",
            "_________________________________________________________________\n",
            " Layer (type)                Output Shape              Param #   \n",
            "=================================================================\n",
            " simple_rnn (SimpleRNN)      (None, 32)                1088      \n",
            "                                                                 \n",
            " dense (Dense)               (None, 1)                 33        \n",
            "                                                                 \n",
            "=================================================================\n",
            "Total params: 1,121\n",
            "Trainable params: 1,121\n",
            "Non-trainable params: 0\n",
            "_________________________________________________________________\n"
          ]
        }
      ]
    },
    {
      "cell_type": "code",
      "source": [
        "model.fit(X_train, y_train, epochs=140, validation_data=(X_test, y_test), batch_size=32)\n"
      ],
      "metadata": {
        "colab": {
          "base_uri": "https://localhost:8080/"
        },
        "id": "fT5f31lZ6c-y",
        "outputId": "a1a356ac-63fd-42aa-bcdc-e6d073ea2081"
      },
      "execution_count": 40,
      "outputs": [
        {
          "output_type": "stream",
          "name": "stdout",
          "text": [
            "Epoch 1/140\n",
            "4/4 [==============================] - 2s 110ms/step - loss: 0.1477 - val_loss: 0.7869\n",
            "Epoch 2/140\n",
            "4/4 [==============================] - 0s 15ms/step - loss: 0.1207 - val_loss: 0.6911\n",
            "Epoch 3/140\n",
            "4/4 [==============================] - 0s 15ms/step - loss: 0.0996 - val_loss: 0.6045\n",
            "Epoch 4/140\n",
            "4/4 [==============================] - 0s 14ms/step - loss: 0.0799 - val_loss: 0.5261\n",
            "Epoch 5/140\n",
            "4/4 [==============================] - 0s 14ms/step - loss: 0.0639 - val_loss: 0.4567\n",
            "Epoch 6/140\n",
            "4/4 [==============================] - 0s 21ms/step - loss: 0.0517 - val_loss: 0.3925\n",
            "Epoch 7/140\n",
            "4/4 [==============================] - 0s 20ms/step - loss: 0.0411 - val_loss: 0.3384\n",
            "Epoch 8/140\n",
            "4/4 [==============================] - 0s 14ms/step - loss: 0.0339 - val_loss: 0.2933\n",
            "Epoch 9/140\n",
            "4/4 [==============================] - 0s 14ms/step - loss: 0.0291 - val_loss: 0.2581\n",
            "Epoch 10/140\n",
            "4/4 [==============================] - 0s 14ms/step - loss: 0.0259 - val_loss: 0.2297\n",
            "Epoch 11/140\n",
            "4/4 [==============================] - 0s 20ms/step - loss: 0.0238 - val_loss: 0.2050\n",
            "Epoch 12/140\n",
            "4/4 [==============================] - 0s 20ms/step - loss: 0.0226 - val_loss: 0.1870\n",
            "Epoch 13/140\n",
            "4/4 [==============================] - 0s 15ms/step - loss: 0.0218 - val_loss: 0.1735\n",
            "Epoch 14/140\n",
            "4/4 [==============================] - 0s 15ms/step - loss: 0.0210 - val_loss: 0.1635\n",
            "Epoch 15/140\n",
            "4/4 [==============================] - 0s 14ms/step - loss: 0.0205 - val_loss: 0.1543\n",
            "Epoch 16/140\n",
            "4/4 [==============================] - 0s 15ms/step - loss: 0.0199 - val_loss: 0.1482\n",
            "Epoch 17/140\n",
            "4/4 [==============================] - 0s 19ms/step - loss: 0.0193 - val_loss: 0.1421\n",
            "Epoch 18/140\n",
            "4/4 [==============================] - 0s 14ms/step - loss: 0.0186 - val_loss: 0.1377\n",
            "Epoch 19/140\n",
            "4/4 [==============================] - 0s 18ms/step - loss: 0.0181 - val_loss: 0.1344\n",
            "Epoch 20/140\n",
            "4/4 [==============================] - 0s 19ms/step - loss: 0.0174 - val_loss: 0.1312\n",
            "Epoch 21/140\n",
            "4/4 [==============================] - 0s 16ms/step - loss: 0.0168 - val_loss: 0.1293\n",
            "Epoch 22/140\n",
            "4/4 [==============================] - 0s 22ms/step - loss: 0.0162 - val_loss: 0.1284\n",
            "Epoch 23/140\n",
            "4/4 [==============================] - 0s 15ms/step - loss: 0.0157 - val_loss: 0.1264\n",
            "Epoch 24/140\n",
            "4/4 [==============================] - 0s 20ms/step - loss: 0.0152 - val_loss: 0.1231\n",
            "Epoch 25/140\n",
            "4/4 [==============================] - 0s 23ms/step - loss: 0.0146 - val_loss: 0.1204\n",
            "Epoch 26/140\n",
            "4/4 [==============================] - 0s 16ms/step - loss: 0.0141 - val_loss: 0.1164\n",
            "Epoch 27/140\n",
            "4/4 [==============================] - 0s 15ms/step - loss: 0.0137 - val_loss: 0.1093\n",
            "Epoch 28/140\n",
            "4/4 [==============================] - 0s 15ms/step - loss: 0.0131 - val_loss: 0.1033\n",
            "Epoch 29/140\n",
            "4/4 [==============================] - 0s 21ms/step - loss: 0.0126 - val_loss: 0.0952\n",
            "Epoch 30/140\n",
            "4/4 [==============================] - 0s 15ms/step - loss: 0.0121 - val_loss: 0.0876\n",
            "Epoch 31/140\n",
            "4/4 [==============================] - 0s 16ms/step - loss: 0.0116 - val_loss: 0.0840\n",
            "Epoch 32/140\n",
            "4/4 [==============================] - 0s 21ms/step - loss: 0.0111 - val_loss: 0.0825\n",
            "Epoch 33/140\n",
            "4/4 [==============================] - 0s 20ms/step - loss: 0.0106 - val_loss: 0.0813\n",
            "Epoch 34/140\n",
            "4/4 [==============================] - 0s 21ms/step - loss: 0.0101 - val_loss: 0.0797\n",
            "Epoch 35/140\n",
            "4/4 [==============================] - 0s 18ms/step - loss: 0.0097 - val_loss: 0.0773\n",
            "Epoch 36/140\n",
            "4/4 [==============================] - 0s 21ms/step - loss: 0.0093 - val_loss: 0.0755\n",
            "Epoch 37/140\n",
            "4/4 [==============================] - 0s 21ms/step - loss: 0.0089 - val_loss: 0.0747\n",
            "Epoch 38/140\n",
            "4/4 [==============================] - 0s 20ms/step - loss: 0.0086 - val_loss: 0.0739\n",
            "Epoch 39/140\n",
            "4/4 [==============================] - 0s 21ms/step - loss: 0.0084 - val_loss: 0.0719\n",
            "Epoch 40/140\n",
            "4/4 [==============================] - 0s 23ms/step - loss: 0.0081 - val_loss: 0.0697\n",
            "Epoch 41/140\n",
            "4/4 [==============================] - 0s 21ms/step - loss: 0.0078 - val_loss: 0.0669\n",
            "Epoch 42/140\n",
            "4/4 [==============================] - 0s 21ms/step - loss: 0.0074 - val_loss: 0.0630\n",
            "Epoch 43/140\n",
            "4/4 [==============================] - 0s 24ms/step - loss: 0.0071 - val_loss: 0.0587\n",
            "Epoch 44/140\n",
            "4/4 [==============================] - 0s 16ms/step - loss: 0.0068 - val_loss: 0.0538\n",
            "Epoch 45/140\n",
            "4/4 [==============================] - 0s 20ms/step - loss: 0.0064 - val_loss: 0.0503\n",
            "Epoch 46/140\n",
            "4/4 [==============================] - 0s 24ms/step - loss: 0.0061 - val_loss: 0.0481\n",
            "Epoch 47/140\n",
            "4/4 [==============================] - 0s 17ms/step - loss: 0.0059 - val_loss: 0.0467\n",
            "Epoch 48/140\n",
            "4/4 [==============================] - 0s 22ms/step - loss: 0.0057 - val_loss: 0.0442\n",
            "Epoch 49/140\n",
            "4/4 [==============================] - 0s 22ms/step - loss: 0.0054 - val_loss: 0.0412\n",
            "Epoch 50/140\n",
            "4/4 [==============================] - 0s 15ms/step - loss: 0.0051 - val_loss: 0.0390\n",
            "Epoch 51/140\n",
            "4/4 [==============================] - 0s 20ms/step - loss: 0.0049 - val_loss: 0.0370\n",
            "Epoch 52/140\n",
            "4/4 [==============================] - 0s 20ms/step - loss: 0.0047 - val_loss: 0.0353\n",
            "Epoch 53/140\n",
            "4/4 [==============================] - 0s 16ms/step - loss: 0.0045 - val_loss: 0.0341\n",
            "Epoch 54/140\n",
            "4/4 [==============================] - 0s 14ms/step - loss: 0.0044 - val_loss: 0.0328\n",
            "Epoch 55/140\n",
            "4/4 [==============================] - 0s 19ms/step - loss: 0.0042 - val_loss: 0.0315\n",
            "Epoch 56/140\n",
            "4/4 [==============================] - 0s 14ms/step - loss: 0.0041 - val_loss: 0.0297\n",
            "Epoch 57/140\n",
            "4/4 [==============================] - 0s 14ms/step - loss: 0.0039 - val_loss: 0.0283\n",
            "Epoch 58/140\n",
            "4/4 [==============================] - 0s 23ms/step - loss: 0.0038 - val_loss: 0.0272\n",
            "Epoch 59/140\n",
            "4/4 [==============================] - 0s 22ms/step - loss: 0.0037 - val_loss: 0.0262\n",
            "Epoch 60/140\n",
            "4/4 [==============================] - 0s 21ms/step - loss: 0.0036 - val_loss: 0.0257\n",
            "Epoch 61/140\n",
            "4/4 [==============================] - 0s 14ms/step - loss: 0.0035 - val_loss: 0.0253\n",
            "Epoch 62/140\n",
            "4/4 [==============================] - 0s 20ms/step - loss: 0.0034 - val_loss: 0.0247\n",
            "Epoch 63/140\n",
            "4/4 [==============================] - 0s 20ms/step - loss: 0.0033 - val_loss: 0.0240\n",
            "Epoch 64/140\n",
            "4/4 [==============================] - 0s 20ms/step - loss: 0.0032 - val_loss: 0.0229\n",
            "Epoch 65/140\n",
            "4/4 [==============================] - 0s 19ms/step - loss: 0.0031 - val_loss: 0.0215\n",
            "Epoch 66/140\n",
            "4/4 [==============================] - 0s 16ms/step - loss: 0.0030 - val_loss: 0.0208\n",
            "Epoch 67/140\n",
            "4/4 [==============================] - 0s 15ms/step - loss: 0.0029 - val_loss: 0.0199\n",
            "Epoch 68/140\n",
            "4/4 [==============================] - 0s 21ms/step - loss: 0.0029 - val_loss: 0.0192\n",
            "Epoch 69/140\n",
            "4/4 [==============================] - 0s 14ms/step - loss: 0.0028 - val_loss: 0.0184\n",
            "Epoch 70/140\n",
            "4/4 [==============================] - 0s 15ms/step - loss: 0.0027 - val_loss: 0.0176\n",
            "Epoch 71/140\n",
            "4/4 [==============================] - 0s 14ms/step - loss: 0.0027 - val_loss: 0.0167\n",
            "Epoch 72/140\n",
            "4/4 [==============================] - 0s 16ms/step - loss: 0.0026 - val_loss: 0.0158\n",
            "Epoch 73/140\n",
            "4/4 [==============================] - 0s 17ms/step - loss: 0.0026 - val_loss: 0.0151\n",
            "Epoch 74/140\n",
            "4/4 [==============================] - 0s 20ms/step - loss: 0.0025 - val_loss: 0.0143\n",
            "Epoch 75/140\n",
            "4/4 [==============================] - 0s 15ms/step - loss: 0.0025 - val_loss: 0.0139\n",
            "Epoch 76/140\n",
            "4/4 [==============================] - 0s 14ms/step - loss: 0.0025 - val_loss: 0.0134\n",
            "Epoch 77/140\n",
            "4/4 [==============================] - 0s 20ms/step - loss: 0.0024 - val_loss: 0.0130\n",
            "Epoch 78/140\n",
            "4/4 [==============================] - 0s 15ms/step - loss: 0.0024 - val_loss: 0.0130\n",
            "Epoch 79/140\n",
            "4/4 [==============================] - 0s 14ms/step - loss: 0.0023 - val_loss: 0.0132\n",
            "Epoch 80/140\n",
            "4/4 [==============================] - 0s 26ms/step - loss: 0.0023 - val_loss: 0.0128\n",
            "Epoch 81/140\n",
            "4/4 [==============================] - 0s 41ms/step - loss: 0.0023 - val_loss: 0.0124\n",
            "Epoch 82/140\n",
            "4/4 [==============================] - 0s 38ms/step - loss: 0.0022 - val_loss: 0.0122\n",
            "Epoch 83/140\n",
            "4/4 [==============================] - 0s 30ms/step - loss: 0.0022 - val_loss: 0.0116\n",
            "Epoch 84/140\n",
            "4/4 [==============================] - 0s 25ms/step - loss: 0.0022 - val_loss: 0.0114\n",
            "Epoch 85/140\n",
            "4/4 [==============================] - 0s 21ms/step - loss: 0.0022 - val_loss: 0.0114\n",
            "Epoch 86/140\n",
            "4/4 [==============================] - 0s 19ms/step - loss: 0.0021 - val_loss: 0.0114\n",
            "Epoch 87/140\n",
            "4/4 [==============================] - 0s 13ms/step - loss: 0.0021 - val_loss: 0.0112\n",
            "Epoch 88/140\n",
            "4/4 [==============================] - 0s 20ms/step - loss: 0.0021 - val_loss: 0.0111\n",
            "Epoch 89/140\n",
            "4/4 [==============================] - 0s 22ms/step - loss: 0.0021 - val_loss: 0.0112\n",
            "Epoch 90/140\n",
            "4/4 [==============================] - 0s 20ms/step - loss: 0.0021 - val_loss: 0.0112\n",
            "Epoch 91/140\n",
            "4/4 [==============================] - 0s 101ms/step - loss: 0.0021 - val_loss: 0.0112\n",
            "Epoch 92/140\n",
            "4/4 [==============================] - 0s 86ms/step - loss: 0.0021 - val_loss: 0.0109\n",
            "Epoch 93/140\n",
            "4/4 [==============================] - 0s 33ms/step - loss: 0.0021 - val_loss: 0.0103\n",
            "Epoch 94/140\n",
            "4/4 [==============================] - 0s 24ms/step - loss: 0.0021 - val_loss: 0.0101\n",
            "Epoch 95/140\n",
            "4/4 [==============================] - 0s 27ms/step - loss: 0.0021 - val_loss: 0.0099\n",
            "Epoch 96/140\n",
            "4/4 [==============================] - 0s 21ms/step - loss: 0.0021 - val_loss: 0.0096\n",
            "Epoch 97/140\n",
            "4/4 [==============================] - 0s 26ms/step - loss: 0.0021 - val_loss: 0.0095\n",
            "Epoch 98/140\n",
            "4/4 [==============================] - 0s 19ms/step - loss: 0.0021 - val_loss: 0.0093\n",
            "Epoch 99/140\n",
            "4/4 [==============================] - 0s 32ms/step - loss: 0.0021 - val_loss: 0.0095\n",
            "Epoch 100/140\n",
            "4/4 [==============================] - 0s 103ms/step - loss: 0.0020 - val_loss: 0.0098\n",
            "Epoch 101/140\n",
            "4/4 [==============================] - 0s 111ms/step - loss: 0.0020 - val_loss: 0.0102\n",
            "Epoch 102/140\n",
            "4/4 [==============================] - 0s 24ms/step - loss: 0.0020 - val_loss: 0.0102\n",
            "Epoch 103/140\n",
            "4/4 [==============================] - 0s 24ms/step - loss: 0.0020 - val_loss: 0.0102\n",
            "Epoch 104/140\n",
            "4/4 [==============================] - 0s 24ms/step - loss: 0.0020 - val_loss: 0.0098\n",
            "Epoch 105/140\n",
            "4/4 [==============================] - 0s 24ms/step - loss: 0.0020 - val_loss: 0.0094\n",
            "Epoch 106/140\n",
            "4/4 [==============================] - 0s 22ms/step - loss: 0.0020 - val_loss: 0.0093\n",
            "Epoch 107/140\n",
            "4/4 [==============================] - 0s 26ms/step - loss: 0.0020 - val_loss: 0.0093\n",
            "Epoch 108/140\n",
            "4/4 [==============================] - 0s 27ms/step - loss: 0.0020 - val_loss: 0.0095\n",
            "Epoch 109/140\n",
            "4/4 [==============================] - 0s 26ms/step - loss: 0.0020 - val_loss: 0.0098\n",
            "Epoch 110/140\n",
            "4/4 [==============================] - 0s 25ms/step - loss: 0.0020 - val_loss: 0.0099\n",
            "Epoch 111/140\n",
            "4/4 [==============================] - 0s 30ms/step - loss: 0.0020 - val_loss: 0.0098\n",
            "Epoch 112/140\n",
            "4/4 [==============================] - 0s 28ms/step - loss: 0.0020 - val_loss: 0.0098\n",
            "Epoch 113/140\n",
            "4/4 [==============================] - 0s 26ms/step - loss: 0.0020 - val_loss: 0.0098\n",
            "Epoch 114/140\n",
            "4/4 [==============================] - 0s 14ms/step - loss: 0.0020 - val_loss: 0.0097\n",
            "Epoch 115/140\n",
            "4/4 [==============================] - 0s 15ms/step - loss: 0.0020 - val_loss: 0.0096\n",
            "Epoch 116/140\n",
            "4/4 [==============================] - 0s 13ms/step - loss: 0.0020 - val_loss: 0.0093\n",
            "Epoch 117/140\n",
            "4/4 [==============================] - 0s 19ms/step - loss: 0.0020 - val_loss: 0.0090\n",
            "Epoch 118/140\n",
            "4/4 [==============================] - 0s 20ms/step - loss: 0.0020 - val_loss: 0.0089\n",
            "Epoch 119/140\n",
            "4/4 [==============================] - 0s 15ms/step - loss: 0.0020 - val_loss: 0.0089\n",
            "Epoch 120/140\n",
            "4/4 [==============================] - 0s 20ms/step - loss: 0.0020 - val_loss: 0.0090\n",
            "Epoch 121/140\n",
            "4/4 [==============================] - 0s 21ms/step - loss: 0.0020 - val_loss: 0.0091\n",
            "Epoch 122/140\n",
            "4/4 [==============================] - 0s 19ms/step - loss: 0.0020 - val_loss: 0.0091\n",
            "Epoch 123/140\n",
            "4/4 [==============================] - 0s 19ms/step - loss: 0.0020 - val_loss: 0.0092\n",
            "Epoch 124/140\n",
            "4/4 [==============================] - 0s 20ms/step - loss: 0.0020 - val_loss: 0.0092\n",
            "Epoch 125/140\n",
            "4/4 [==============================] - 0s 22ms/step - loss: 0.0020 - val_loss: 0.0091\n",
            "Epoch 126/140\n",
            "4/4 [==============================] - 0s 15ms/step - loss: 0.0020 - val_loss: 0.0090\n",
            "Epoch 127/140\n",
            "4/4 [==============================] - 0s 15ms/step - loss: 0.0020 - val_loss: 0.0088\n",
            "Epoch 128/140\n",
            "4/4 [==============================] - 0s 19ms/step - loss: 0.0021 - val_loss: 0.0087\n",
            "Epoch 129/140\n",
            "4/4 [==============================] - 0s 14ms/step - loss: 0.0021 - val_loss: 0.0088\n",
            "Epoch 130/140\n",
            "4/4 [==============================] - 0s 15ms/step - loss: 0.0020 - val_loss: 0.0090\n",
            "Epoch 131/140\n",
            "4/4 [==============================] - 0s 22ms/step - loss: 0.0020 - val_loss: 0.0090\n",
            "Epoch 132/140\n",
            "4/4 [==============================] - 0s 14ms/step - loss: 0.0020 - val_loss: 0.0092\n",
            "Epoch 133/140\n",
            "4/4 [==============================] - 0s 20ms/step - loss: 0.0020 - val_loss: 0.0093\n",
            "Epoch 134/140\n",
            "4/4 [==============================] - 0s 19ms/step - loss: 0.0020 - val_loss: 0.0095\n",
            "Epoch 135/140\n",
            "4/4 [==============================] - 0s 19ms/step - loss: 0.0021 - val_loss: 0.0095\n",
            "Epoch 136/140\n",
            "4/4 [==============================] - 0s 20ms/step - loss: 0.0020 - val_loss: 0.0092\n",
            "Epoch 137/140\n",
            "4/4 [==============================] - 0s 19ms/step - loss: 0.0020 - val_loss: 0.0091\n",
            "Epoch 138/140\n",
            "4/4 [==============================] - 0s 20ms/step - loss: 0.0020 - val_loss: 0.0090\n",
            "Epoch 139/140\n",
            "4/4 [==============================] - 0s 13ms/step - loss: 0.0020 - val_loss: 0.0092\n",
            "Epoch 140/140\n",
            "4/4 [==============================] - 0s 19ms/step - loss: 0.0020 - val_loss: 0.0093\n"
          ]
        },
        {
          "output_type": "execute_result",
          "data": {
            "text/plain": [
              "<keras.callbacks.History at 0x7f05fa67bca0>"
            ]
          },
          "metadata": {},
          "execution_count": 40
        }
      ]
    },
    {
      "cell_type": "markdown",
      "source": [
        "**Visualize Prediction**\n",
        "\n",
        "For both training and Test Data"
      ],
      "metadata": {
        "id": "rqBgbmqh6s9D"
      }
    },
    {
      "cell_type": "code",
      "source": [
        "#Get prediction for both Training and Test Data\n",
        "trainPredict = model.predict(X_train)\n",
        "testPredict = model.predict(X_test)"
      ],
      "metadata": {
        "colab": {
          "base_uri": "https://localhost:8080/"
        },
        "id": "OHNW3h1Q6dMI",
        "outputId": "77ede035-6dd1-4e42-92cb-84cf54bc085c"
      },
      "execution_count": 41,
      "outputs": [
        {
          "output_type": "stream",
          "name": "stdout",
          "text": [
            "4/4 [==============================] - 0s 7ms/step\n",
            "2/2 [==============================] - 0s 6ms/step\n"
          ]
        }
      ]
    },
    {
      "cell_type": "code",
      "source": [
        "X_test[0]"
      ],
      "metadata": {
        "colab": {
          "base_uri": "https://localhost:8080/"
        },
        "id": "tLkrYJlH6yam",
        "outputId": "2e978fc0-e273-4108-9bf4-21439000df57"
      },
      "execution_count": 42,
      "outputs": [
        {
          "output_type": "execute_result",
          "data": {
            "text/plain": [
              "array([[0.48455598]])"
            ]
          },
          "metadata": {},
          "execution_count": 42
        }
      ]
    },
    {
      "cell_type": "code",
      "source": [
        "X_test[1]"
      ],
      "metadata": {
        "colab": {
          "base_uri": "https://localhost:8080/"
        },
        "id": "h_0R6z-o6ydz",
        "outputId": "c62b797c-7b08-42d0-a5a9-6d21b0af34f2"
      },
      "execution_count": 43,
      "outputs": [
        {
          "output_type": "execute_result",
          "data": {
            "text/plain": [
              "array([[0.61389961]])"
            ]
          },
          "metadata": {},
          "execution_count": 43
        }
      ]
    },
    {
      "cell_type": "code",
      "source": [
        "model.predict(np.reshape(X_test[0], (1, 1, 1)))"
      ],
      "metadata": {
        "colab": {
          "base_uri": "https://localhost:8080/"
        },
        "id": "wSwxtUo_6yh6",
        "outputId": "73fdb236-fff2-4706-de9b-1e97b278a314"
      },
      "execution_count": 44,
      "outputs": [
        {
          "output_type": "stream",
          "name": "stdout",
          "text": [
            "1/1 [==============================] - 0s 38ms/step\n"
          ]
        },
        {
          "output_type": "execute_result",
          "data": {
            "text/plain": [
              "array([[0.47232774]], dtype=float32)"
            ]
          },
          "metadata": {},
          "execution_count": 44
        }
      ]
    },
    {
      "cell_type": "code",
      "source": [
        "model.predict(np.reshape(X_test[1], (1, 1, 1)))"
      ],
      "metadata": {
        "colab": {
          "base_uri": "https://localhost:8080/"
        },
        "id": "TOGTPrjW7AX5",
        "outputId": "1a56bbd4-297f-4d2c-8ec4-1ed094716d20"
      },
      "execution_count": 45,
      "outputs": [
        {
          "output_type": "stream",
          "name": "stdout",
          "text": [
            "1/1 [==============================] - 0s 37ms/step\n"
          ]
        },
        {
          "output_type": "execute_result",
          "data": {
            "text/plain": [
              "array([[0.59165734]], dtype=float32)"
            ]
          },
          "metadata": {},
          "execution_count": 45
        }
      ]
    },
    {
      "cell_type": "code",
      "source": [
        "#Un-normalize the predited data\n",
        "\n",
        "trainPredict = scaler.inverse_transform(trainPredict)\n",
        "y_train = scaler.inverse_transform([y_train])\n",
        "\n",
        "testPredict = scaler.inverse_transform(testPredict)\n",
        "y_test = scaler.inverse_transform([y_test])"
      ],
      "metadata": {
        "id": "f4dJLseS7KFM"
      },
      "execution_count": 46,
      "outputs": []
    },
    {
      "cell_type": "code",
      "source": [
        " y_train"
      ],
      "metadata": {
        "colab": {
          "base_uri": "https://localhost:8080/"
        },
        "id": "yK4Bzt7t7KI-",
        "outputId": "ac030f30-c1ee-48f9-8d8a-053a0e45e34c"
      },
      "execution_count": 47,
      "outputs": [
        {
          "output_type": "execute_result",
          "data": {
            "text/plain": [
              "array([[118., 132., 129., 121., 135., 148., 148., 136., 119., 104., 118.,\n",
              "        115., 126., 141., 135., 125., 149., 170., 170., 158., 133., 114.,\n",
              "        140., 145., 150., 178., 163., 172., 178., 199., 199., 184., 162.,\n",
              "        146., 166., 171., 180., 193., 181., 183., 218., 230., 242., 209.,\n",
              "        191., 172., 194., 196., 196., 236., 235., 229., 243., 264., 272.,\n",
              "        237., 211., 180., 201., 204., 188., 235., 227., 234., 264., 302.,\n",
              "        293., 259., 229., 203., 229., 242., 233., 267., 269., 270., 315.,\n",
              "        364., 347., 312., 274., 237., 278., 284., 277., 317., 313., 318.,\n",
              "        374., 413., 405., 355., 306., 271., 306., 315., 301., 356., 348.]])"
            ]
          },
          "metadata": {},
          "execution_count": 47
        }
      ]
    },
    {
      "cell_type": "code",
      "source": [
        "y_test"
      ],
      "metadata": {
        "colab": {
          "base_uri": "https://localhost:8080/"
        },
        "id": "QZkvCCtv7KOr",
        "outputId": "1a616447-7b0b-4a61-d1cf-c56e72a11879"
      },
      "execution_count": 48,
      "outputs": [
        {
          "output_type": "execute_result",
          "data": {
            "text/plain": [
              "array([[422., 465., 467., 404., 347., 305., 336., 340., 318., 362., 348.,\n",
              "        363., 435., 491., 505., 404., 359., 310., 337., 360., 342., 406.,\n",
              "        396., 420., 472., 548., 559., 463., 407., 362., 405., 417., 391.,\n",
              "        419., 461., 472., 535., 622., 606., 508., 461., 390., 432.]])"
            ]
          },
          "metadata": {},
          "execution_count": 48
        }
      ]
    },
    {
      "cell_type": "code",
      "source": [
        "from sklearn import metrics\n",
        "from sklearn.metrics import r2_score"
      ],
      "metadata": {
        "id": "eixUeXA-7KTF"
      },
      "execution_count": 49,
      "outputs": []
    },
    {
      "cell_type": "code",
      "source": [
        "### calculate root mean squared error\n",
        "trainScore = np.sqrt(metrics.mean_squared_error(y_train[0], trainPredict[:,0]))\n",
        "print('Train Score: %.2f RMSE' % (trainScore))"
      ],
      "metadata": {
        "colab": {
          "base_uri": "https://localhost:8080/"
        },
        "id": "JIgb3Ala7dF4",
        "outputId": "810ed81f-d1dd-4da7-e436-4a83f4757001"
      },
      "execution_count": 50,
      "outputs": [
        {
          "output_type": "stream",
          "name": "stdout",
          "text": [
            "Train Score: 23.27 RMSE\n"
          ]
        }
      ]
    },
    {
      "cell_type": "code",
      "source": [
        "### calculate root mean squared error\n",
        "testscore = np.sqrt(metrics.mean_squared_error(y_test[0], testPredict[:,0]))\n",
        "print('Test Score: %.2f RMSE' % (testscore))"
      ],
      "metadata": {
        "colab": {
          "base_uri": "https://localhost:8080/"
        },
        "id": "VFx_v5Md7dQ0",
        "outputId": "f0f984c6-3612-4e93-c005-5bc0c0011b68"
      },
      "execution_count": 51,
      "outputs": [
        {
          "output_type": "stream",
          "name": "stdout",
          "text": [
            "Test Score: 49.91 RMSE\n"
          ]
        }
      ]
    },
    {
      "cell_type": "markdown",
      "source": [
        "The above RMSE score mentions that\n",
        "\n",
        "* The model has errored for an average of 23k passengers in the training data set and\n",
        "* the model has errored for an average of 49 passengers in test dataset"
      ],
      "metadata": {
        "id": "Arc3m-Hp7uw_"
      }
    },
    {
      "cell_type": "code",
      "source": [
        "import matplotlib.pyplot as plt\n"
      ],
      "metadata": {
        "id": "XP2W4MtV7oHI"
      },
      "execution_count": 52,
      "outputs": []
    },
    {
      "cell_type": "code",
      "source": [
        "trainPredictPlot = np.empty_like(scaled)\n",
        "trainPredictPlot[:, :] = np.nan\n",
        "trainPredictPlot[window_size:len(trainPredict)+window_size, :] = trainPredict\n",
        "\n",
        "# shift test predictions for plotting\n",
        "testPredictPlot = np.empty_like(scaled)\n",
        "testPredictPlot[:, :] = np.nan\n",
        "testPredictPlot[len(trainPredict)+(window_size*2):len(scaled), :] = testPredict\n",
        "\n",
        "# plot baseline and predictions\n",
        "plt.figure(figsize=(20,10))\n",
        "plt.plot(scaler.inverse_transform(scaled))\n",
        "plt.plot(trainPredictPlot)\n",
        "plt.plot(testPredictPlot)\n",
        "plt.show()"
      ],
      "metadata": {
        "colab": {
          "base_uri": "https://localhost:8080/",
          "height": 642
        },
        "id": "RX3IqDI47od9",
        "outputId": "f3744ddb-978b-4ea2-ee3c-414ab2fa32f0"
      },
      "execution_count": 53,
      "outputs": [
        {
          "output_type": "display_data",
          "data": {
            "text/plain": [
              "<Figure size 2000x1000 with 1 Axes>"
            ],
            "image/png": "[encoded data removed]"
          },
          "metadata": {}
        }
      ]
    },
    {
      "cell_type": "code",
      "source": [
        "plt.figure(figsize=(4,3))\n",
        "plt.plot(scaler.inverse_transform(scaled))\n",
        "plt.plot(trainPredictPlot)\n",
        "plt.plot(testPredictPlot)\n",
        "plt.show()"
      ],
      "metadata": {
        "colab": {
          "base_uri": "https://localhost:8080/",
          "height": 291
        },
        "id": "3qy8j9Oa8GCm",
        "outputId": "01ffbc48-9162-4303-a0e0-12ad18cd0f5f"
      },
      "execution_count": 54,
      "outputs": [
        {
          "output_type": "display_data",
          "data": {
            "text/plain": [
              "<Figure size 400x300 with 1 Axes>"
            ],
            "image/png": "[encoded data removed]"
          },
          "metadata": {}
        }
      ]
    }
  ]
}